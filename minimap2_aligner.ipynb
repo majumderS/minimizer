{
 "cells": [
  {
   "cell_type": "markdown",
   "metadata": {},
   "source": [
    "#### Building the minimap2 aligner: pass parameters here=>k-mer length, minimizer window length,preset can be set to mac-pb (pacbio read mapping), mac-ont (oxford nanopore mapping) etc\n",
    "#### for more details visit https://pypi.org/project/mappy/"
   ]
  },
  {
   "cell_type": "code",
   "execution_count": 103,
   "metadata": {},
   "outputs": [],
   "source": [
    "import time\n",
    "import mappy as mp\n",
    "reference_genome = mp.Aligner(\"dataset/ecoli_ref.fa\",w=8,k=8) #load or build index on ecoli dataset"
   ]
  },
  {
   "cell_type": "code",
   "execution_count": 104,
   "metadata": {},
   "outputs": [
    {
     "data": {
      "text/plain": [
       "['NC_000913']"
      ]
     },
     "execution_count": 104,
     "metadata": {},
     "output_type": "execute_result"
    }
   ],
   "source": [
    "reference_genome.seq_names #gives an array of sequence names in the index"
   ]
  },
  {
   "cell_type": "code",
   "execution_count": 105,
   "metadata": {},
   "outputs": [
    {
     "data": {
      "text/plain": [
       "4639675"
      ]
     },
     "execution_count": 105,
     "metadata": {},
     "output_type": "execute_result"
    }
   ],
   "source": [
    "len(reference_genome.seq(\"NC_000913\")) #coli has 4 million bp"
   ]
  },
  {
   "cell_type": "markdown",
   "metadata": {},
   "source": [
    "#### count number of reads in fasta file:"
   ]
  },
  {
   "cell_type": "code",
   "execution_count": 106,
   "metadata": {},
   "outputs": [
    {
     "name": "stdout",
     "output_type": "stream",
     "text": [
      "112\n"
     ]
    }
   ],
   "source": [
    "num_of_reads = 0\n",
    "for name,seq,qual in mp.fastx_read(\"dataset/reads.fasta\"):\n",
    "    num_of_reads = num_of_reads+1\n",
    "print(num_of_reads)"
   ]
  },
  {
   "cell_type": "markdown",
   "metadata": {},
   "source": [
    "#### We map a set of ecoli reads fetched from MinION Instrument http://s3.climb.ac.uk/nanopolish_tutorial/ecoli_2kb_region.tar.gz"
   ]
  },
  {
   "cell_type": "code",
   "execution_count": 107,
   "metadata": {
    "scrolled": false
   },
   "outputs": [
    {
     "name": "stdout",
     "output_type": "stream",
     "text": [
      "Reference\tref_Start ref_end mapping_quality alignment_length\n",
      "NC_000913\t520902\t524490\t\t60\t3750\n",
      "NC_000913\t727182\t729532\t\t60\t2407\n",
      "NC_000913\t725145\t730016\t\t60\t4973\n",
      "NC_000913\t724623\t733165\t\t60\t8691\n",
      "NC_000913\t727939\t729900\t\t60\t2021\n",
      "NC_000913\t725442\t736296\t\t60\t11107\n",
      "NC_000913\t723387\t727636\t\t60\t4302\n",
      "NC_000913\t725980\t730542\t\t60\t4914\n",
      "NC_000913\t726215\t732486\t\t60\t6477\n",
      "NC_000913\t521582\t522723\t\t60\t1174\n",
      "NC_000913\t725847\t731350\t\t60\t5657\n",
      "NC_000913\t720416\t727623\t\t60\t7372\n",
      "NC_000913\t725354\t729062\t\t60\t3785\n",
      "NC_000913\t517588\t524231\t\t60\t6766\n",
      "NC_000913\t727403\t728951\t\t60\t1614\n",
      "NC_000913\t520370\t524100\t\t60\t3785\n",
      "NC_000913\t726192\t731821\t\t60\t5829\n",
      "NC_000913\t516631\t526229\t\t60\t9809\n",
      "NC_000913\t727884\t732010\t\t60\t4232\n",
      "NC_000913\t519895\t529308\t\t60\t9818\n",
      "NC_000913\t726820\t731373\t\t60\t4706\n",
      "NC_000913\t519727\t522765\t\t36\t3158\n",
      "NC_000913\t519726\t522761\t\t60\t3112\n",
      "NC_000913\t518576\t523768\t\t60\t5294\n",
      "NC_000913\t726780\t728385\t\t60\t1626\n",
      "NC_000913\t725200\t733348\t\t60\t8343\n",
      "NC_000913\t727135\t730678\t\t60\t3657\n",
      "NC_000913\t726670\t733010\t\t60\t6528\n",
      "NC_000913\t719398\t732006\t\t60\t12942\n",
      "NC_000913\t4068196\t4074601\t\t60\t6554\n",
      "NC_000913\t725218\t729176\t\t60\t4047\n",
      "NC_000913\t727391\t733085\t\t60\t5803\n",
      "NC_000913\t723679\t730328\t\t60\t6801\n",
      "NC_000913\t724550\t727494\t\t60\t3007\n",
      "NC_000913\t722916\t729757\t\t60\t6997\n",
      "NC_000913\t722454\t730683\t\t60\t8480\n",
      "NC_000913\t727939\t731997\t\t60\t4146\n",
      "NC_000913\t724158\t729103\t\t60\t5209\n",
      "NC_000913\t728650\t731608\t\t60\t3023\n",
      "NC_000913\t3760071\t3763008\t\t0\t3007\n",
      "NC_000913\t727311\t733977\t\t60\t6795\n",
      "NC_000913\t728645\t732907\t\t60\t4369\n",
      "NC_000913\t725376\t728564\t\t60\t3282\n",
      "NC_000913\t726687\t735319\t\t60\t8822\n",
      "NC_000913\t726351\t729782\t\t60\t3551\n",
      "NC_000913\t522960\t523438\t\t60\t495\n",
      "NC_000913\t727785\t730876\t\t60\t3155\n",
      "NC_000913\t728377\t736618\t\t60\t8402\n",
      "NC_000913\t726204\t727353\t\t60\t1176\n",
      "NC_000913\t726550\t729113\t\t60\t2662\n",
      "NC_000913\t722558\t732759\t\t60\t10471\n",
      "NC_000913\t726001\t736394\t\t60\t10593\n",
      "NC_000913\t729148\t730590\t\t60\t1476\n",
      "NC_000913\t3617557\t3618999\t\t0\t1480\n",
      "NC_000913\t3760548\t3761990\t\t0\t1480\n",
      "NC_000913\t720900\t728319\t\t60\t7542\n",
      "NC_000913\t725281\t727911\t\t60\t2715\n",
      "NC_000913\t720511\t727488\t\t60\t7108\n",
      "NC_000913\t723360\t728605\t\t60\t5447\n",
      "NC_000913\t723782\t735444\t\t60\t11948\n",
      "NC_000913\t728419\t731017\t\t53\t2721\n",
      "NC_000913\t722304\t729538\t\t60\t7410\n",
      "NC_000913\t725296\t730596\t\t60\t5411\n",
      "NC_000913\t726964\t732321\t\t60\t5485\n",
      "NC_000913\t724873\t731287\t\t60\t6538\n",
      "NC_000913\t725813\t731381\t\t60\t5743\n",
      "NC_000913\t721724\t728723\t\t60\t7127\n",
      "NC_000913\t728349\t730038\t\t60\t1743\n",
      "NC_000913\t727054\t730429\t\t60\t3494\n",
      "NC_000913\t725959\t730261\t\t60\t4497\n",
      "NC_000913\t725654\t730652\t\t60\t5140\n",
      "NC_000913\t726495\t736160\t\t60\t9937\n",
      "NC_000913\t521684\t523325\t\t60\t1683\n",
      "NC_000913\t725541\t727781\t\t60\t2286\n",
      "NC_000913\t728768\t732005\t\t60\t3311\n",
      "NC_000913\t3760169\t3763405\t\t0\t3314\n",
      "NC_000913\t3617213\t3620414\t\t0\t3278\n",
      "NC_000913\t728152\t732494\t\t60\t4417\n",
      "NC_000913\t722899\t731514\t\t60\t8861\n",
      "NC_000913\t727243\t729230\t\t60\t2019\n",
      "NC_000913\t728002\t729674\t\t60\t1728\n",
      "NC_000913\t726142\t733909\t\t60\t7997\n",
      "NC_000913\t725538\t727530\t\t60\t2044\n",
      "NC_000913\t726385\t728132\t\t60\t1781\n",
      "NC_000913\t519541\t525721\t\t60\t6351\n",
      "NC_000913\t724598\t732866\t\t60\t8775\n",
      "NC_000913\t728755\t731048\t\t60\t2359\n",
      "NC_000913\t3760156\t3762427\t\t0\t2339\n",
      "NC_000913\t3617213\t3619436\t\t0\t2290\n",
      "NC_000913\t726245\t733388\t\t60\t7260\n",
      "NC_000913\t729036\t731516\t\t60\t2543\n",
      "NC_000913\t3617445\t3619925\t\t0\t2544\n",
      "NC_000913\t3760436\t3762916\t\t0\t2544\n",
      "NC_000913\t517208\t524026\t\t60\t6974\n",
      "NC_000913\t727845\t734850\t\t60\t7189\n",
      "NC_000913\t519297\t523899\t\t60\t4723\n",
      "NC_000913\t728296\t736053\t\t60\t7997\n",
      "NC_000913\t720068\t727872\t\t60\t8072\n",
      "NC_000913\t727523\t732798\t\t60\t5477\n",
      "NC_000913\t722079\t727998\t\t60\t6023\n",
      "NC_000913\t722074\t729674\t\t60\t7852\n",
      "NC_000913\t725753\t731691\t\t60\t6098\n",
      "NC_000913\t728444\t733673\t\t60\t5438\n",
      "NC_000913\t722453\t727604\t\t60\t5264\n",
      "NC_000913\t728634\t734941\t\t60\t6469\n",
      "NC_000913\t513865\t523893\t\t60\t10482\n",
      "NC_000913\t727999\t736134\t\t60\t8298\n",
      "NC_000913\t522493\t524762\t\t60\t2320\n",
      "NC_000913\t718394\t728187\t\t60\t10177\n",
      "NC_000913\t725394\t728892\t\t60\t3555\n",
      "NC_000913\t728490\t734231\t\t60\t5886\n",
      "NC_000913\t724875\t728485\t\t60\t3717\n",
      "NC_000913\t726940\t729070\t\t60\t2204\n",
      "NC_000913\t722447\t730953\t\t60\t8903\n",
      "NC_000913\t522939\t524862\t\t60\t1958\n",
      "NC_000913\t725579\t730641\t\t60\t5193\n",
      "NC_000913\t518966\t522931\t\t60\t4132\n",
      "NC_000913\t728812\t735797\t\t60\t7456\n",
      "NC_000913\t722617\t730373\t\t60\t8175\n",
      "NC_000913\t722843\t728178\t\t60\t5515\n",
      "NC_000913\t520620\t526247\t\t60\t5784\n",
      "NC_000913\t725085\t730562\t\t60\t5620\n",
      "CPU Time elapsed: 21.704071999999996\n",
      "NUmber of hits: 122\n",
      "mapq 0: 9\n",
      "mapq less than eq 50: 1\n",
      "mapq gt than 50: 112\n"
     ]
    }
   ],
   "source": [
    "#parameters recording for analysis through the experiment\n",
    "no_of_read_hits=0;\n",
    "mapq_0 = 0\n",
    "mapq_50 = 0\n",
    "mapq_gt_50 = 0\n",
    "\n",
    "print(\"Reference\\tref_Start ref_end mapping_quality alignment_length\")\n",
    "\n",
    "start = time.clock()\n",
    "for name,seq,qual in mp.fastx_read(\"dataset/reads.fasta\"):\n",
    "    for hit in reference_genome.map(seq):\n",
    "        print(\"{}\\t{}\\t{}\\t\\t{}\\t{}\".format(hit.ctg,hit.r_st,hit.r_en,hit.mapq,hit.blen))\n",
    "        end = time.clock()\n",
    "\n",
    "        no_of_read_hits=no_of_read_hits+1\n",
    "        if(hit.mapq==0):\n",
    "            mapq_0 = mapq_0+1\n",
    "        elif(hit.mapq<=50):\n",
    "            mapq_50 = mapq_50 + 1\n",
    "        else:\n",
    "            mapq_gt_50 = mapq_gt_50 + 1\n",
    "\n",
    "print(\"CPU Time elapsed: {}\".format(end-start))\n",
    "print(\"NUmber of hits: {}\".format(no_of_read_hits))\n",
    "print(\"mapq 0: {}\".format(mapq_0))\n",
    "print(\"mapq less than eq 50: {}\".format(mapq_50))\n",
    "print(\"mapq gt than 50: {}\".format(mapq_gt_50))\n"
   ]
  },
  {
   "cell_type": "code",
   "execution_count": 7,
   "metadata": {},
   "outputs": [
    {
     "ename": "AttributeError",
     "evalue": "'mappy.Alignment' object has no attribute 'cm'",
     "output_type": "error",
     "traceback": [
      "\u001b[0;31m---------------------------------------------------------------------------\u001b[0m",
      "\u001b[0;31mAttributeError\u001b[0m                            Traceback (most recent call last)",
      "\u001b[0;32m<ipython-input-7-a2fce7510822>\u001b[0m in \u001b[0;36m<module>\u001b[0;34m()\u001b[0m\n\u001b[0;32m----> 1\u001b[0;31m \u001b[0mhit\u001b[0m\u001b[0;34m.\u001b[0m\u001b[0mcm\u001b[0m\u001b[0;34m\u001b[0m\u001b[0;34m\u001b[0m\u001b[0m\n\u001b[0m",
      "\u001b[0;31mAttributeError\u001b[0m: 'mappy.Alignment' object has no attribute 'cm'"
     ]
    }
   ],
   "source": [
    "hit.cm"
   ]
  },
  {
   "cell_type": "code",
   "execution_count": 9,
   "metadata": {},
   "outputs": [
    {
     "data": {
      "text/plain": [
       "<mappy.Aligner at 0x7fccf8cce830>"
      ]
     },
     "execution_count": 9,
     "metadata": {},
     "output_type": "execute_result"
    }
   ],
   "source": [
    "reference_genome"
   ]
  },
  {
   "cell_type": "code",
   "execution_count": 10,
   "metadata": {},
   "outputs": [
    {
     "data": {
      "text/plain": [
       "<mappy.Alignment at 0x7fccf794f978>"
      ]
     },
     "execution_count": 10,
     "metadata": {},
     "output_type": "execute_result"
    }
   ],
   "source": [
    "hit"
   ]
  },
  {
   "cell_type": "code",
   "execution_count": null,
   "metadata": {},
   "outputs": [],
   "source": []
  }
 ],
 "metadata": {
  "kernelspec": {
   "display_name": "Python 3",
   "language": "python",
   "name": "python3"
  },
  "language_info": {
   "codemirror_mode": {
    "name": "ipython",
    "version": 3
   },
   "file_extension": ".py",
   "mimetype": "text/x-python",
   "name": "python",
   "nbconvert_exporter": "python",
   "pygments_lexer": "ipython3",
   "version": "3.6.7"
  }
 },
 "nbformat": 4,
 "nbformat_minor": 2
}
