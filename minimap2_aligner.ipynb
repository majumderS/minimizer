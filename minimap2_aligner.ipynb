{
 "cells": [
  {
   "cell_type": "markdown",
   "metadata": {},
   "source": [
    "#### Building the minimap2 aligner: pass parameters here=>k-mer length, minimizer window length,preset can be set to mac-pb (pacbio read mapping), mac-ont (oxford nanopore mapping) etc\n",
    "#### for more details visit https://pypi.org/project/mappy/"
   ]
  },
  {
   "cell_type": "code",
   "execution_count": 103,
   "metadata": {},
   "outputs": [],
   "source": [
    "import time\n",
    "import mappy as mp\n",
    "reference_genome = mp.Aligner(\"dataset/ecoli_ref.fa\",w=8,k=8) #load or build index on ecoli dataset"
   ]
  },
  {
   "cell_type": "code",
   "execution_count": 104,
   "metadata": {},
   "outputs": [
    {
     "data": {
      "text/plain": [
       "['NC_000913']"
      ]
     },
     "execution_count": 104,
     "metadata": {},
     "output_type": "execute_result"
    }
   ],
   "source": [
    "reference_genome.seq_names #gives an array of sequence names in the index"
   ]
  },
  {
   "cell_type": "code",
   "execution_count": 105,
   "metadata": {},
   "outputs": [
    {
     "data": {
      "text/plain": [
       "4639675"
      ]
     },
     "execution_count": 105,
     "metadata": {},
     "output_type": "execute_result"
    }
   ],
   "source": [
    "len(reference_genome.seq(\"NC_000913\")) #coli has 4 million bp"
   ]
  },
  {
   "cell_type": "markdown",
   "metadata": {},
   "source": [
    "#### count number of reads in fasta file:"
   ]
  },
  {
   "cell_type": "code",
   "execution_count": 106,
   "metadata": {},
   "outputs": [
    {
     "name": "stdout",
     "output_type": "stream",
     "text": [
      "112\n"
     ]
    }
   ],
   "source": [
    "num_of_reads = 0\n",
    "for name,seq,qual in mp.fastx_read(\"dataset/reads.fasta\"):\n",
    "    num_of_reads = num_of_reads+1\n",
    "print(num_of_reads)"
   ]
  },
  {
   "cell_type": "markdown",
   "metadata": {},
   "source": [
    "#### We map a set of ecoli reads fetched from MinION Instrument http://s3.climb.ac.uk/nanopolish_tutorial/ecoli_2kb_region.tar.gz"
   ]
  },
  {
   "cell_type": "code",
   "execution_count": 107,
   "metadata": {
    "scrolled": false
   },
   "outputs": [
    {
     "name": "stdout",
     "output_type": "stream",
     "text": [
      "Reference\tref_Start ref_end mapping_quality alignment_length\n",
      "NC_000913\t520902\t524490\t\t60\t3750\n",
      "NC_000913\t520620\t526247\t\t60\t5784\n",
      "NC_000913\t725085\t730562\t\t60\t5620\n",
      "CPU Time elapsed: 21.704071999999996\n",
      "NUmber of hits: 122\n",
      "mapq 0: 9\n",
      "mapq less than eq 50: 1\n",
      "mapq gt than 50: 112\n"
     ]
    }
   ],
   "source": [
    "#parameters recording for analysis through the experiment\n",
    "no_of_read_hits=0;\n",
    "mapq_0 = 0\n",
    "mapq_50 = 0\n",
    "mapq_gt_50 = 0\n",
    "\n",
    "print(\"Reference\\tref_Start ref_end mapping_quality alignment_length\")\n",
    "\n",
    "start = time.clock()\n",
    "for name,seq,qual in mp.fastx_read(\"dataset/reads.fasta\"):\n",
    "    for hit in reference_genome.map(seq):\n",
    "        print(\"{}\\t{}\\t{}\\t\\t{}\\t{}\".format(hit.ctg,hit.r_st,hit.r_en,hit.mapq,hit.blen))\n",
    "        end = time.clock()\n",
    "\n",
    "        no_of_read_hits=no_of_read_hits+1\n",
    "        if(hit.mapq==0):\n",
    "            mapq_0 = mapq_0+1\n",
    "        elif(hit.mapq<=50):\n",
    "            mapq_50 = mapq_50 + 1\n",
    "        else:\n",
    "            mapq_gt_50 = mapq_gt_50 + 1\n",
    "\n",
    "print(\"CPU Time elapsed: {}\".format(end-start))\n",
    "print(\"NUmber of hits: {}\".format(no_of_read_hits))\n",
    "print(\"mapq 0: {}\".format(mapq_0))\n",
    "print(\"mapq less than eq 50: {}\".format(mapq_50))\n",
    "print(\"mapq gt than 50: {}\".format(mapq_gt_50))\n"
   ]
  },
  {
   "cell_type": "code",
   "execution_count": 7,
   "metadata": {},
   "outputs": [
    {
     "ename": "AttributeError",
     "evalue": "'mappy.Alignment' object has no attribute 'cm'",
     "output_type": "error",
     "traceback": [
      "\u001b[0;31m---------------------------------------------------------------------------\u001b[0m",
      "\u001b[0;31mAttributeError\u001b[0m                            Traceback (most recent call last)",
      "\u001b[0;32m<ipython-input-7-a2fce7510822>\u001b[0m in \u001b[0;36m<module>\u001b[0;34m()\u001b[0m\n\u001b[0;32m----> 1\u001b[0;31m \u001b[0mhit\u001b[0m\u001b[0;34m.\u001b[0m\u001b[0mcm\u001b[0m\u001b[0;34m\u001b[0m\u001b[0;34m\u001b[0m\u001b[0m\n\u001b[0m",
      "\u001b[0;31mAttributeError\u001b[0m: 'mappy.Alignment' object has no attribute 'cm'"
     ]
    }
   ],
   "source": [
    "hit.cm"
   ]
  },
  {
   "cell_type": "code",
   "execution_count": 9,
   "metadata": {},
   "outputs": [
    {
     "data": {
      "text/plain": [
       "<mappy.Aligner at 0x7fccf8cce830>"
      ]
     },
     "execution_count": 9,
     "metadata": {},
     "output_type": "execute_result"
    }
   ],
   "source": [
    "reference_genome"
   ]
  },
  {
   "cell_type": "code",
   "execution_count": 10,
   "metadata": {},
   "outputs": [
    {
     "data": {
      "text/plain": [
       "<mappy.Alignment at 0x7fccf794f978>"
      ]
     },
     "execution_count": 10,
     "metadata": {},
     "output_type": "execute_result"
    }
   ],
   "source": [
    "hit"
   ]
  },
  {
   "cell_type": "code",
   "execution_count": null,
   "metadata": {},
   "outputs": [],
   "source": []
  }
 ],
 "metadata": {
  "kernelspec": {
   "display_name": "Python 3",
   "language": "python",
   "name": "python3"
  },
  "language_info": {
   "codemirror_mode": {
    "name": "ipython",
    "version": 3
   },
   "file_extension": ".py",
   "mimetype": "text/x-python",
   "name": "python",
   "nbconvert_exporter": "python",
   "pygments_lexer": "ipython3",
   "version": "3.6.7"
  }
 },
 "nbformat": 4,
 "nbformat_minor": 2
}
