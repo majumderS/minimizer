{
 "cells": [
  {
   "cell_type": "markdown",
   "metadata": {},
   "source": [
    "#### Building the minimap2 aligner: pass parameters here=>k-mer length, minimizer window length,preset can be set to mac-pb (pacbio read mapping), mac-ont (oxford nanopore mapping) etc\n",
    "#### for more details visit https://pypi.org/project/mappy/"
   ]
  },
  {
   "cell_type": "code",
   "execution_count": null,
   "metadata": {},
   "outputs": [],
   "source": [
    "import time\n",
    "import mappy as mp\n",
    "reference_genome = mp.Aligner(\"dataset/ecoli_ref.fa\",w=8,k=8) #load or build index on ecoli dataset"
   ]
  },
  {
   "cell_type": "code",
   "execution_count": null,
   "metadata": {},
   "outputs": [],
   "source": [
    "reference_genome.seq_names #gives an array of sequence names in the index"
   ]
  },
  {
   "cell_type": "code",
   "execution_count": null,
   "metadata": {},
   "outputs": [],
   "source": [
    "len(reference_genome.seq(\"NC_000913\")) #coli has 4 million bp"
   ]
  },
  {
   "cell_type": "markdown",
   "metadata": {},
   "source": [
    "#### count number of reads in fasta file:"
   ]
  },
  {
   "cell_type": "code",
   "execution_count": null,
   "metadata": {},
   "outputs": [],
   "source": [
    "num_of_reads = 0\n",
    "for name,seq,qual in mp.fastx_read(\"dataset/reads.fasta\"):\n",
    "    num_of_reads = num_of_reads+1\n",
    "print(num_of_reads)"
   ]
  },
  {
   "cell_type": "markdown",
   "metadata": {},
   "source": [
    "#### We map a set of ecoli reads fetched from MinION Instrument http://s3.climb.ac.uk/nanopolish_tutorial/ecoli_2kb_region.tar.gz"
   ]
  },
  {
   "cell_type": "code",
   "execution_count": null,
   "metadata": {
    "scrolled": false
   },
   "outputs": [],
   "source": [
    "#parameters recording for analysis through the experiment\n",
    "no_of_read_hits=0;\n",
    "mapq_0 = 0\n",
    "mapq_50 = 0\n",
    "mapq_gt_50 = 0\n",
    "\n",
    "print(\"Reference\\tref_Start ref_end mapping_quality alignment_length\")\n",
    "\n",
    "start = time.clock()\n",
    "for name,seq,qual in mp.fastx_read(\"dataset/reads.fasta\"):\n",
    "    for hit in reference_genome.map(seq):\n",
    "        print(\"{}\\t{}\\t{}\\t\\t{}\\t{}\".format(hit.ctg,hit.r_st,hit.r_en,hit.mapq,hit.blen))\n",
    "        end = time.clock()\n",
    "\n",
    "        no_of_read_hits=no_of_read_hits+1\n",
    "        if(hit.mapq==0):\n",
    "            mapq_0 = mapq_0+1\n",
    "        elif(hit.mapq<=50):\n",
    "            mapq_50 = mapq_50 + 1\n",
    "        else:\n",
    "            mapq_gt_50 = mapq_gt_50 + 1\n",
    "\n",
    "print(\"CPU Time elapsed: {}\".format(end-start))\n",
    "print(\"NUmber of hits: {}\".format(no_of_read_hits))\n",
    "print(\"mapq 0: {}\".format(mapq_0))\n",
    "print(\"mapq less than eq 50: {}\".format(mapq_50))\n",
    "print(\"mapq gt than 50: {}\".format(mapq_gt_50))\n"
   ]
  }
 ],
 "metadata": {
  "kernelspec": {
   "display_name": "Python 3",
   "language": "python",
   "name": "python3"
  },
  "language_info": {
   "codemirror_mode": {
    "name": "ipython",
    "version": 3
   },
   "file_extension": ".py",
   "mimetype": "text/x-python",
   "name": "python",
   "nbconvert_exporter": "python",
   "pygments_lexer": "ipython3",
   "version": "3.6.7"
  }
 },
 "nbformat": 4,
 "nbformat_minor": 2
}
